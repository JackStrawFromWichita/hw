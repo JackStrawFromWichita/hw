{
 "cells": [
  {
   "cell_type": "code",
   "execution_count": null,
   "metadata": {},
   "outputs": [],
   "source": [
    "I have reached the conclusion that either: a) my preprocessing and preparation of data was insufficient to set up models \n",
    "for accurate prediction, or b) political party cannot be accurately determined based on the tax information in this\n",
    "particular data set. \n",
    "\n",
    "My highest test score using linear regression was with the lasso model using C=0.001. This yielded a disappointing\n",
    "test score of only 36%. The confusion matrix for the test and training data further supports either a or b.\n",
    "\n",
    "The random forest model did not perform much better, with a score of 34%. Analysis of the confusion matrix on the training\n",
    "data suggests evidence of overfitting. \n",
    "    "
   ]
  }
 ],
 "metadata": {
  "kernelspec": {
   "display_name": "Python 3",
   "language": "python",
   "name": "python3"
  },
  "language_info": {
   "codemirror_mode": {
    "name": "ipython",
    "version": 3
   },
   "file_extension": ".py",
   "mimetype": "text/x-python",
   "name": "python",
   "nbconvert_exporter": "python",
   "pygments_lexer": "ipython3",
   "version": "3.8.5"
  }
 },
 "nbformat": 4,
 "nbformat_minor": 4
}
